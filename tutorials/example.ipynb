{
 "cells": [
  {
   "cell_type": "code",
   "execution_count": 1,
   "metadata": {},
   "outputs": [
    {
     "name": "stdout",
     "output_type": "stream",
     "text": [
      "/opt/anaconda3/envs/cp_env/lib/python3.11/site-packages/MGEmu-0.2-py3.11.egg/MGEmu\n",
      "\n",
      " As it is the first instance of the emulator, we need to download some data, it can take a few seconds...\n",
      "\n",
      "Downloading models_v2...\n",
      "\n"
     ]
    },
    {
     "name": "stderr",
     "output_type": "stream",
     "text": [
      "Downloading...\n",
      "From: https://drive.google.com/uc?id=1UVT0GY8I2Y22I_o1EhYXzmUjc35sQOGx\n",
      "To: /opt/anaconda3/envs/cp_env/lib/python3.11/site-packages/MGEmu-0.2-py3.11.egg/MGEmu/models_v2.zip\n",
      "100%|██████████████████████████████████████████████████████████████████████████████████████████████████████████████████████████████████████████████████████████████████████| 14.3M/14.3M [00:01<00:00, 7.95MB/s]\n"
     ]
    },
    {
     "name": "stdout",
     "output_type": "stream",
     "text": [
      "Download finished. Extracting files.\n",
      "Done.\n",
      "\n"
     ]
    }
   ],
   "source": [
    "import MGEmu as mgemu\n",
    "import matplotlib.pyplot as plt\n",
    "import numpy as np"
   ]
  },
  {
   "cell_type": "markdown",
   "metadata": {
    "jp-MarkdownHeadingCollapsed": true
   },
   "source": [
    "## Parameter ranges for fr emulator (see [here](https://github.com/nebblu/ReACT-emus/tree/main) for more information) \n",
    "| parameter         | limits                |\n",
    "| :---:             | :---:                 |\n",
    "| Omega_m           | [0.24, 0.35]          |\n",
    "| Omega_b           | [0.04, 0.06]          |\n",
    "| H0                | [63, 75]              |\n",
    "| ns                | [0.9, 1.01]           |\n",
    "| Omega_nu          | [0., 0.00317]         |\n",
    "| As                | [1.7,2.5]*10^{-9}     |\n",
    "| fR0               | [10^{-10},10^{-4}].   |\n",
    "| z                 | [0.0, 2.]             |\n",
    "| k [h/Mpc]         | [0.01, 3]             |\n",
    "\n",
    "\n",
    "## Parameter ranges for dgp emulator (see [here](https://github.com/nebblu/ReACT-emus/tree/main) for more information) \n",
    "| parameter         | limits                |\n",
    "| :---:             | :---:                 |\n",
    "| Omega_m           | [0.2899,0.3392]          |\n",
    "| Omega_b           | [0.04044,0.05686]          |\n",
    "| H0                | [62.9, 73.1]              |\n",
    "| ns                | [0.9432, 0.9862]           |\n",
    "| Omega_nu          | [0., 0.00317]         |\n",
    "| As                | [1.5,2.7]*10^{-9}     |\n",
    "| omega_rc               | [0.001, 100]   |\n",
    "| z                 | [0.0, 2.4]             |\n",
    "| k [h/Mpc]         | [0.01, 5]             |\n",
    "\n",
    "\n",
    "## Parameter ranges for ds emulator\n",
    "| parameter         | limits                |\n",
    "| :---:             | :---:                 |\n",
    "| Omega_m           | [0.22,0.37]          |\n",
    "| Omega_b           | [0.03,0.08]          |\n",
    "| H0                | [63, 84]              |\n",
    "| ns                | [0.8, 1.1]           |\n",
    "| Omega_nu          | [0., 0.00317]         |\n",
    "| As                | [1.7,2.5]*10^{-9}     |\n",
    "| w0               | [-1.3,-0.7]   |\n",
    "| wa               | [-0.5,0.5]   |\n",
    "| xi               | [0,150]   |\n",
    "| z                 | [0.0, 2.5]             |\n",
    "| k [h/Mpc]         | [0.01, 5]             |"
   ]
  },
  {
   "cell_type": "markdown",
   "metadata": {},
   "source": [
    "## Calculate the boost for LCDM and MG"
   ]
  },
  {
   "cell_type": "code",
   "execution_count": 7,
   "metadata": {},
   "outputs": [
    {
     "name": "stderr",
     "output_type": "stream",
     "text": [
      "WARNING:absl:At this time, the v2.11+ optimizer `tf.keras.optimizers.Adam` runs slowly on M1/M2 Macs, please use the legacy Keras optimizer instead, located at `tf.keras.optimizers.legacy.Adam`.\n"
     ]
    },
    {
     "name": "stdout",
     "output_type": "stream",
     "text": [
      "Loading nonlinear emulator...\n",
      "Nonlinear emulator loaded in memory.\n"
     ]
    }
   ],
   "source": [
    "params = {\n",
    "    'Omega_m'     :  [0.315, 0.315],\n",
    "    'Omega_b'  :  [0.05, 0.05],\n",
    "    'ns'            :  [0.96, 0.96],\n",
    "    'H0'        :  [67, 67],\n",
    "    'Omega_nu' :  [0.0, 0.0],\n",
    "    'As'            :  [2.0e-9,2.0e-9],\n",
    "    'w0'            :  [-1.1,-1.1],\n",
    "    'wa'            :  [0.1,0.1],\n",
    "    'xi'            :  [100.,100.],\n",
    "    'fR0'            :  [1e-10,1e-10],\n",
    "    'omegarc'            :  [0.0,0.0],\n",
    "    'gamma'            :  [0.55,0.55],\n",
    "    'q1'            :  [0.0,0.0],\n",
    "    'z'             :  [0., 1.]\n",
    "}\n",
    "\n",
    "#available emulators: fr, dgp, gamma, ds \n",
    "emulator = mgemu.MG_boost(model='ds')\n",
    "kvals, boost_nl = emulator.get_nonlinear_boost(**params)"
   ]
  },
  {
   "cell_type": "code",
   "execution_count": 9,
   "metadata": {},
   "outputs": [
    {
     "name": "stderr",
     "output_type": "stream",
     "text": [
      "/tmp/ipykernel_5405/1360717846.py:7: UserWarning: No artists with labels found to put in legend.  Note that artists whose label start with an underscore are ignored when legend() is called with no argument.\n",
      "  ax[1].legend(title='$z=1$', loc='lower left')\n"
     ]
    },
    {
     "data": {
      "text/plain": [
       "<matplotlib.legend.Legend at 0x1051313d0>"
      ]
     },
     "execution_count": 9,
     "metadata": {},
     "output_type": "execute_result"
    },
    {
     "data": {
      "image/png": "[encoded data removed]",
      "text/plain": [
       "<Figure size 800x400 with 2 Axes>"
      ]
     },
     "metadata": {},
     "output_type": "display_data"
    }
   ],
   "source": [
    "fig, ax = plt.subplots(1,2, figsize=(8,4), sharey=True)\n",
    "ax[0].semilogx(kvals, boost_nl[0], label=\"Nonlinear boost\")\n",
    "ax[1].semilogx(kvals, boost_nl[1])\n",
    "ax[0].set_xlabel(\"$k$ [$h$/Mpc]\");ax[1].set_xlabel(\"$k$ [$h$/Mpc]\")\n",
    "ax[0].set_ylabel(\"$B(k)$\")\n",
    "ax[0].legend(title='$z=0$', loc='lower left')\n",
    "ax[1].legend(title='$z=1$', loc='lower left')"
   ]
  },
  {
   "cell_type": "code",
   "execution_count": null,
   "metadata": {},
   "outputs": [],
   "source": []
  }
 ],
 "metadata": {
  "kernelspec": {
   "display_name": "Python [conda env:cp_env]",
   "language": "python",
   "name": "conda-env-cp_env-py"
  },
  "language_info": {
   "codemirror_mode": {
    "name": "ipython",
    "version": 3
   },
   "file_extension": ".py",
   "mimetype": "text/x-python",
   "name": "python",
   "nbconvert_exporter": "python",
   "pygments_lexer": "ipython3",
   "version": "3.11.13"
  }
 },
 "nbformat": 4,
 "nbformat_minor": 4
}
